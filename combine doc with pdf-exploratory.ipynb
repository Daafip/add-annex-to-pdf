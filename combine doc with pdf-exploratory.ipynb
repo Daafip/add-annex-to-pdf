{
 "cells": [
  {
   "cell_type": "code",
   "execution_count": 1,
   "id": "52972ab8-75d3-4c9e-96de-4a406a3ec9f7",
   "metadata": {},
   "outputs": [],
   "source": [
    "import docx\n",
    "from docx import Document\n",
    "from docx.shared import Inches"
   ]
  },
  {
   "cell_type": "code",
   "execution_count": 2,
   "id": "df9c308e-656e-4909-ae3d-dab37327b411",
   "metadata": {},
   "outputs": [],
   "source": [
    "import docx"
   ]
  },
  {
   "cell_type": "markdown",
   "id": "0ba8213d-7981-4751-babc-67bcc89da81e",
   "metadata": {},
   "source": [
    "https://automatetheboringstuff.com/chapter13/#:~:text=Reading%20Word%20Documents&text=docx%20file%20in%20Python%2C%20call,a%20list%20of%20Paragraph%20objects."
   ]
  },
  {
   "cell_type": "code",
   "execution_count": 3,
   "id": "1af01987-c64b-41f3-b544-1ab69b1f7278",
   "metadata": {},
   "outputs": [],
   "source": [
    "input_path = \"Input/Test_simple/report_file_we_want.docx\""
   ]
  },
  {
   "cell_type": "code",
   "execution_count": 4,
   "id": "f8874fd9-52fc-450a-810b-066ffd60fad2",
   "metadata": {},
   "outputs": [],
   "source": [
    "with open(input_path, 'rb') as fin:\n",
    "    document = Document(fin)"
   ]
  },
  {
   "cell_type": "code",
   "execution_count": 5,
   "id": "3e4671c4-22f1-4700-a840-f96ee7c6240d",
   "metadata": {},
   "outputs": [],
   "source": [
    "text = [[run.text for run in par.runs] \n",
    "                          for par in document.paragraphs]"
   ]
  },
  {
   "cell_type": "code",
   "execution_count": 6,
   "id": "6be7924f-93d0-4bda-9080-b53ddde2f4c2",
   "metadata": {
    "scrolled": true,
    "tags": []
   },
   "outputs": [
    {
     "data": {
      "text/plain": [
       "[['Title page'],\n",
       " ['\\n'],\n",
       " ['Intro'],\n",
       " ['\\n'],\n",
       " ['Chapter1'],\n",
       " ['\\n'],\n",
       " ['Could be more text before'],\n",
       " [],\n",
       " ['**', '__', '*', '*', 'Input\\\\Test_simple', '\\\\', 'drawing.pdf', '**__**'],\n",
       " [],\n",
       " ['Could be more text after'],\n",
       " [],\n",
       " ['\\n'],\n",
       " ['Chapter2'],\n",
       " ['\\n'],\n",
       " ['Chapter3'],\n",
       " ['\\n'],\n",
       " ['Conclusion '],\n",
       " ['\\n'],\n",
       " ['Biography']]"
      ]
     },
     "execution_count": 6,
     "metadata": {},
     "output_type": "execute_result"
    }
   ],
   "source": [
    "text"
   ]
  },
  {
   "cell_type": "code",
   "execution_count": 7,
   "id": "2f48d5e0-5d55-4877-8704-814d6748e9cc",
   "metadata": {},
   "outputs": [],
   "source": [
    "page_count = 2\n",
    "for index, t in enumerate(text):\n",
    "    if t == ['\\n']:\n",
    "        text[index] = [page_count]\n",
    "        page_count  += 1"
   ]
  },
  {
   "cell_type": "code",
   "execution_count": 8,
   "id": "7b49e1ee-3a2a-4da9-9bb4-60e190142ae5",
   "metadata": {},
   "outputs": [
    {
     "data": {
      "text/plain": [
       "[['Title page'],\n",
       " [2],\n",
       " ['Intro'],\n",
       " [3],\n",
       " ['Chapter1'],\n",
       " [4],\n",
       " ['Could be more text before'],\n",
       " [],\n",
       " ['**', '__', '*', '*', 'Input\\\\Test_simple', '\\\\', 'drawing.pdf', '**__**'],\n",
       " [],\n",
       " ['Could be more text after'],\n",
       " [],\n",
       " [5],\n",
       " ['Chapter2'],\n",
       " [6],\n",
       " ['Chapter3'],\n",
       " [7],\n",
       " ['Conclusion '],\n",
       " [8],\n",
       " ['Biography']]"
      ]
     },
     "execution_count": 8,
     "metadata": {},
     "output_type": "execute_result"
    }
   ],
   "source": [
    "text"
   ]
  },
  {
   "cell_type": "markdown",
   "id": "b843e95e-2af5-4ba8-a757-9f05c0cfa066",
   "metadata": {},
   "source": [
    "works for simpel example but not more complex reports/formatimg"
   ]
  },
  {
   "cell_type": "code",
   "execution_count": 9,
   "id": "c41ce01b-502e-4f9e-a0e0-d099ae9d0a65",
   "metadata": {},
   "outputs": [],
   "source": [
    "input_path = \"Input/Test_report/Project analyse - test.docx\""
   ]
  },
  {
   "cell_type": "code",
   "execution_count": 10,
   "id": "67cdf154-b0ba-4c11-9999-817bf0805574",
   "metadata": {},
   "outputs": [
    {
     "name": "stdout",
     "output_type": "stream",
     "text": [
      "[['', ''], [], [], [], [], [], [], [], [], [], [], [], [], [], [], [], [], [], [], [], [''], [], [''], [], ['Figuur ', '', '', '', '1', '', ': Metro in de Noord/Zuidlijn. Van ', '\"Amsterdam\"', ', Door ', 'N.A. ', 'Jelgersma', ', 2018 (https://www.amsterdam.nl/publish/pages/495367/europaplein_nina_albada_jelgersma.png)'], [2], ['Voorwoord'], ['Dit rapport is een analyse van het gegeven project de Noord/Zuidlijn voor het eerstejaars inleiding vak voor de bachelor civiele techniek aan de TU delft. ', 'Dit vak is onder de leiding van ', 'dhr. L.C. Rietveld', ' en mede mogelijk gemaakt door de studenten assistenten van het vak inleiding civiele techniek en bouwplaats.', '\\t', '\\t', '\\t', '\\t', '\\t', '\\t', '\\t', '\\t', '\\t', '\\t', 'Voor geïnteresseerde in de totstandkoming en besluit van het project zijn h', 'oofdstuk', 'ken', ' twee tot vijf zijn ', 'toepasselijk. Hoofstukken zes tot negen hebben een sterkere nadruk op het bouwproces en het verloop daarvan. In de bijlage zijn verdere kaarten te vinden die het project toelichten.', '\\t', '\\t', '\\t', '\\t', '\\t', '\\t', '\\t', '\\t', '\\t', '\\t', '\\t', '\\tIk zou graag mijn mede studenten willen bedanken voor hun input met het peerreview, daarnaast ook ', 'dhr. L.C. Rietveld', ' voor zijn colleges en het begeleiden van dit vak. ', '\\t', '\\t', '\\t', '\\t', '\\t', '\\t', '\\t', '\\t', '\\t', '\\t', '\\t', '\\t', '\\t', '\\n'], ['Samenvatting'], ['De Noord/Zuidlijn voorzie', 't', ' ', '121.000 mensen van transport. Het Noorden heeft minder openbaar vervoersinfrastructuur. Om de groeiende stad van Amsterdam van de juiste transportmogelijkheden te voorzien was de uitbreiding van de metro van belang. ', '\\t', '\\t', '\\t', '\\t', '\\t', '\\t', 'Dit rapport beantwoord de volgende vraag: Waarom is de Noord/Zuidlijn tot stand gekomen, hoe is dit gebeurd en wat voor invloed heeft de bouw gehad? Door gebruik van ', 'literatuur', ' bronnen rond het project zal het ', 'proces worden omschreven.', '\\t', '\\t', '\\t', '\\t', '\\t', '\\t', '\\tVoor de lijn waren er vele alternatieven mogelijk om de reistijd te verbeteren. Het probleem was echter niet genoeg ruimte op de Amsterdamse straten waardoor ', 'lightrailsystemen', ', meer veerponten of meer bruggen het probleem niet zouden oplossen en daarom was er voor deze ', 'metrolijn', ' gekozen. ', 'Bij de bouw werden verschillende methodes gebruikt, onder andere de caissons methode, om de tunnels en stations aan te leggen. Een grote hoeveelheid aannemers werden gecontracteerd tijdens de bouw, elk experts in het vakgebied waar zij verantwoordelijk voor waren. De effecten op de omgeving waren vooral tijdens de bouw van de lijn, met verzakingen en overlast door het afzetten van straten. Verder heeft de lijn nu vooral positieven effecten als het verminderen van reistijd en de hoeveelheid bussen en trams nodig. Minder vervoer bovengronds zorgt voor een beter lucht kwaliteit en minder drukte. ', '\\t', '\\t', '\\t', '\\t', '\\t', '\\t', '\\t', '\\t', '\\tDe lijn was nodig voor het verbeteren van reistijd. Tussen 2003 en 2018 vond de bouw plaats, de oplevering was vertraagd met een half jaar ten opzichte van de eerste oplever datum. De invloeden van de huidige lijn zin vooral positief, met betere bereikbaarheid binnen Amsterdam. Een negatief effect was wel de verzakking van huizen. Aanbevolen is een betere begroting met een lagere kans op risico’s. '], ['\\t', '\\t', '\\n'], ['Inhoudsopgave'], ['', '', ''], [], [], [], [], [], [], [], [], [], [], [], [], [], [], [], [], []]\n"
     ]
    }
   ],
   "source": [
    "with open(input_path, 'rb') as fin:\n",
    "    document = Document(fin)\n",
    "\n",
    "text = [[run.text for run in par.runs] \n",
    "                          for par in document.paragraphs]    \n",
    "    \n",
    "page_count = 2\n",
    "for index, t in enumerate(text):\n",
    "    if t == ['\\n']:\n",
    "        text[index] = [page_count]\n",
    "        page_count  += 1\n",
    "\n",
    "print(text[:50])"
   ]
  },
  {
   "cell_type": "markdown",
   "id": "0ccad224-9bee-461a-a1ff-41f65f742d9b",
   "metadata": {},
   "source": [
    "sometimes the '\\n' is on a different paragraph which complicated things"
   ]
  },
  {
   "cell_type": "markdown",
   "id": "54ec4cfd-fd6d-4718-ab30-04c94989b449",
   "metadata": {},
   "source": [
    "### try pdf"
   ]
  },
  {
   "cell_type": "code",
   "execution_count": 11,
   "id": "99de9e50-01d6-4226-8d4a-2d077c5ebef1",
   "metadata": {},
   "outputs": [],
   "source": [
    "import PyPDF2"
   ]
  },
  {
   "cell_type": "code",
   "execution_count": 12,
   "id": "b5911371-c3bb-4695-a816-dae70d7a1575",
   "metadata": {},
   "outputs": [
    {
     "data": {
      "text/plain": [
       "['1 Title page  \\n  ',\n",
       " '2 Intro  \\n  ',\n",
       " '3 Chapter1  \\n  ',\n",
       " '4 Could be more text before  \\n \\n**__**Input \\\\Test_simple \\\\drawing.pdf **__**  \\n \\nCould be more text after  \\n \\n  ',\n",
       " '5 Chapter2  \\n  ',\n",
       " '6 Chapter3  \\n  ',\n",
       " '7 Conclusion  \\n  ',\n",
       " '8 Biography  ']"
      ]
     },
     "execution_count": 12,
     "metadata": {},
     "output_type": "execute_result"
    }
   ],
   "source": [
    "input_path = \"Input/Test_simple/report_file_we_want.pdf\"\n",
    "input_reader = PyPDF2.PdfReader(input_path)\n",
    "pages = [page.extract_text() for page in input_reader.pages]    \n",
    "pages"
   ]
  },
  {
   "cell_type": "code",
   "execution_count": 13,
   "id": "f93c9db4-b828-42a7-bd19-ce3f1abe6074",
   "metadata": {},
   "outputs": [
    {
     "data": {
      "text/plain": [
       "['15 \\n 9.2 Metro in Tokyo  \\nAang ezien de drukste metrolijnen vooral in Azië zijn, word t er gekeken naar de metrolijn in Tokyo ter \\nvergelijking. Met drieduizend miljoen reizigers was dit dan ook de drukste metrolijn in 2017 (tabel 1).  \\nHet hele systeem is een stuk groter dan Amsterdam met 13 versch illende routes en een totale lengte \\nvan 195km (Website van Tokyo Metro, n.d.) . Ook is deze Japanse metrolijn  veel ouder, in 1927 werd \\nde lijn voor het eerst in gebruik genomen. De verandering na die tijd is echter interessanter. D oor \\ndat de stad zelf over een groter oppervlakte is verspreid is vervoer ook heel belangrijk (Hirooka, \\nn.d.) . Een groot verschil in Tokyo is dat een groot aantal van de metro en treinlijnen aangelegd \\nwerden  door privébedrijven  met speciale regeling en van de overheid. Dit zorgt ervoor dat de hele \\ntransport infrastructuur door bedrijven  wordt geregel d in plaats van de overheid. Dit heeft vele \\neconomische voor - en nadelen maar van een civieltechnisch oogpunt zorgt het vooral voor een  \\ngroot aantal treinlijnen. Figuur 5 geeft een beeld van hoe groot het metro netwerk in Tokyo is.  \\n \\nFiguur 5 Tokyo Metro kaart, van “ Wikimedia Commons” \\n(https://commons.wikimedia.org/wiki/File:Tokyo_metro_map_en_ -_Tokyo_Metro_lines.png) (Tokyo Map Wikipedia , n.d.)  \\n']"
      ]
     },
     "execution_count": 13,
     "metadata": {},
     "output_type": "execute_result"
    }
   ],
   "source": [
    "input_path = \"Input/Test_report/Project analyse - test.pdf\"\n",
    "input_reader = PyPDF2.PdfReader(input_path)\n",
    "pages = [page.extract_text() for page in input_reader.pages]    \n",
    "pages[20:21]"
   ]
  },
  {
   "cell_type": "markdown",
   "id": "e79cadec-b07e-4247-9b34-a7623f325d88",
   "metadata": {},
   "source": [
    "## Seems more promising\n",
    "\n",
    "pages are individually accessible. "
   ]
  },
  {
   "cell_type": "code",
   "execution_count": 14,
   "id": "d018ff03-b7c9-4009-9e91-0adb9ad2678b",
   "metadata": {},
   "outputs": [
    {
     "data": {
      "text/plain": [
       "['1 Title page  \\n  ',\n",
       " '2 Intro  \\n  ',\n",
       " '3 Chapter1  \\n  ',\n",
       " '4 Could be more text before  \\n \\n**__**Input \\\\Test_simple \\\\drawing.pdf **__**  \\n \\nCould be more text after  \\n \\n  ',\n",
       " '5 Chapter2  \\n  ',\n",
       " '6 Chapter3  \\n  ',\n",
       " '7 Conclusion  \\n  ',\n",
       " '8 Biography  ']"
      ]
     },
     "execution_count": 14,
     "metadata": {},
     "output_type": "execute_result"
    }
   ],
   "source": [
    "input_path = \"Input/Test_simple/report_file_we_want.pdf\"\n",
    "input_reader = PyPDF2.PdfReader(input_path)\n",
    "pages = [page.extract_text() for page in input_reader.pages]    \n",
    "pages"
   ]
  },
  {
   "cell_type": "code",
   "execution_count": 15,
   "id": "9520b29c-762f-447c-a40c-160e2137b67b",
   "metadata": {},
   "outputs": [
    {
     "data": {
      "text/plain": [
       "[[4, 'Input\\\\Test_simple\\\\drawing.pdf']]"
      ]
     },
     "execution_count": 15,
     "metadata": {},
     "output_type": "execute_result"
    }
   ],
   "source": [
    "symbol = \"**__**\"\n",
    "lst_to_insert = []\n",
    "for page_n, page in enumerate(pages):\n",
    "    if page.find(symbol)!= -1:\n",
    "        start_path = page.find(symbol)\n",
    "        end_path = page.find(symbol,start_path+1)\n",
    "        path = page[start_path+len(symbol):end_path]\n",
    "        path = path.replace(\" \",\"\") # remove any spaces\n",
    "        lst_to_insert.append([page_n+1, path])\n",
    "lst_to_insert"
   ]
  },
  {
   "cell_type": "markdown",
   "id": "7da92f20-9dcc-4263-977c-970ee43ee12a",
   "metadata": {},
   "source": [
    "Extracting path worked!"
   ]
  },
  {
   "cell_type": "code",
   "execution_count": 16,
   "id": "4951b66b-1a4e-451a-9753-ed1735de131e",
   "metadata": {},
   "outputs": [],
   "source": [
    "input_path = \"Input/Test_report/Project analyse - test.pdf\"\n",
    "input_reader = PyPDF2.PdfReader(input_path,strict=True)\n",
    "pages = [page.extract_text() for page in input_reader.pages]    "
   ]
  },
  {
   "cell_type": "code",
   "execution_count": 17,
   "id": "31607ac1-bdd5-4081-ad7b-f7b3cb0d79df",
   "metadata": {},
   "outputs": [],
   "source": [
    "symbol = \"**__**\"\n",
    "lst_to_insert = []\n",
    "for page_n, page in enumerate(pages):\n",
    "    if page.find(symbol)!= -1:\n",
    "        start_path = page.find(symbol)\n",
    "        end_path = page.find(symbol,start_path+1)\n",
    "        path = page[start_path+len(symbol):end_path]\n",
    "        path = path.replace(\" \",\"\")                  # remove any spaces\n",
    "        lst_to_insert.append([page_n, path]) "
   ]
  },
  {
   "cell_type": "code",
   "execution_count": 18,
   "id": "5b943932-6caa-4d69-aedc-4173181d346c",
   "metadata": {},
   "outputs": [
    {
     "data": {
      "text/plain": [
       "[[16, 'Input/Test_report/drawing.pdf'], [21, 'Input/Test_report/drawing2.pdf']]"
      ]
     },
     "execution_count": 18,
     "metadata": {},
     "output_type": "execute_result"
    }
   ],
   "source": [
    "lst_to_insert"
   ]
  },
  {
   "cell_type": "code",
   "execution_count": 19,
   "id": "ff055ee7-20f4-4d70-808c-9a5a6ced1239",
   "metadata": {},
   "outputs": [
    {
     "data": {
      "text/plain": [
       "[[4, 'Input\\\\Test_simple\\\\drawing.pdf']]"
      ]
     },
     "execution_count": 19,
     "metadata": {},
     "output_type": "execute_result"
    }
   ],
   "source": [
    "input_name = \"report_file_we_want\"\n",
    "input_path = f\"Input/Test_simple/{input_name}.pdf\"\n",
    "input_reader = PyPDF2.PdfReader(input_path)\n",
    "total_input_pages = len(input_reader.pages)\n",
    "total_input_pages_lst_index = list(range(0, total_input_pages))\n",
    "pages = [page.extract_text() for page in input_reader.pages]    \n",
    "\n",
    "symbol = \"**__**\"\n",
    "lst_to_insert = []\n",
    "for page_n, page in enumerate(pages):\n",
    "    if page.find(symbol)!= -1:\n",
    "        start_path = page.find(symbol)\n",
    "        end_path = page.find(symbol,start_path+1)\n",
    "        path = page[start_path+len(symbol):end_path]\n",
    "        path = path.replace(\" \",\"\") # remove any spaces\n",
    "        lst_to_insert.append([page_n+1, path])\n",
    "lst_to_insert"
   ]
  },
  {
   "cell_type": "code",
   "execution_count": 20,
   "id": "3cd82c89-303e-4910-a7fe-1a3e1758a977",
   "metadata": {},
   "outputs": [],
   "source": [
    "remove_place_holder = True # assume the 'code' page is a placeholder - doesnt have to be but will look ugly\n",
    "combined = PyPDF2.PdfWriter()\n",
    "for item_to_insert in lst_to_insert:\n",
    "    page_index, path_to_insert = item_to_insert\n",
    "    insert_page = PyPDF2.PdfReader(path_to_insert,strict=True)\n",
    "    \n",
    "    # add pages before hand, -1 is to remove the old \n",
    "    if remove_place_holder:\n",
    "        page_index_start =  page_index -1 \n",
    "    else:\n",
    "        page_index_start =  page_index\n",
    "    for index in total_input_pages_lst_index[:page_index_start]:\n",
    "        combined.add_page(input_reader.pages[index])\n",
    "    \n",
    "    # insert page, removeing the old one\n",
    "    for index in range(len(insert_page.pages)):\n",
    "        combined.add_page(insert_page.pages[index])\n",
    "    \n",
    "    # add pages after\n",
    "    for index in total_input_pages_lst_index[page_index:]:\n",
    "        combined.add_page(input_reader.pages[index])"
   ]
  },
  {
   "cell_type": "code",
   "execution_count": 21,
   "id": "e06292ff-ff62-4a79-aa8a-949a5c7c35bf",
   "metadata": {},
   "outputs": [],
   "source": [
    "output_path = f\"Output/{input_name}.pdf\"\n",
    "with open(output_path, \"wb\") as fout:\n",
    "    combined.write(fout)"
   ]
  },
  {
   "cell_type": "code",
   "execution_count": 22,
   "id": "19e98c43-cf7d-4651-9688-1ff68b3d8e0d",
   "metadata": {},
   "outputs": [],
   "source": [
    "class PDF(object):\n",
    "    def __init__(self, pdf, size=(200,200)):\n",
    "        self.pdf = pdf\n",
    "        self.size = size\n",
    "\n",
    "    def _repr_html_(self):\n",
    "        return '<iframe src={0} width={1[0]} height={1[1]}></iframe>'.format(self.pdf, self.size)\n",
    "\n",
    "    def _repr_latex_(self):\n",
    "        return r'\\includegraphics[width=1.0\\textwidth]{{{0}}}'.format(self.pdf)"
   ]
  },
  {
   "cell_type": "code",
   "execution_count": 23,
   "id": "5ed0edde-903d-4cdb-be4a-bddfbc87f512",
   "metadata": {},
   "outputs": [
    {
     "data": {
      "text/html": [
       "<iframe src=Output/report_file_we_want.pdf width=700 height=500></iframe>"
      ],
      "text/latex": [
       "\\includegraphics[width=1.0\\textwidth]{Output/report_file_we_want.pdf}"
      ],
      "text/plain": [
       "<__main__.PDF at 0x1e83dcafbb0>"
      ]
     },
     "execution_count": 23,
     "metadata": {},
     "output_type": "execute_result"
    }
   ],
   "source": [
    "PDF(output_path, size=(700,500))"
   ]
  },
  {
   "cell_type": "code",
   "execution_count": 24,
   "id": "3289cc12-b0d0-4ba1-a2a9-2e51cdbac060",
   "metadata": {},
   "outputs": [],
   "source": [
    "def combine(input_path, output_path, symbol): \n",
    "    try:\n",
    "        input_reader = PyPDF2.PdfReader(input_path)\n",
    "        total_input_pages = len(input_reader.pages)\n",
    "        total_input_pages_lst_index = list(range(0, total_input_pages))\n",
    "        pages = [page.extract_text() for page in input_reader.pages]    \n",
    "\n",
    "\n",
    "        lst_to_insert = []\n",
    "        for page_n, page in enumerate(pages):\n",
    "            if page.find(symbol)!= -1:\n",
    "                start_path = page.find(symbol)\n",
    "                end_path = page.find(symbol,start_path+1)\n",
    "                path = page[start_path+len(symbol):end_path]\n",
    "                path = path.replace(\" \",\"\") # remove any spaces\n",
    "                lst_to_insert.append([page_n+1, path])\n",
    "        print(lst_to_insert)\n",
    "        remove_place_holder = True # assume the 'code' page is a placeholder - doesnt have to be but will look ugly\n",
    "        combined = PyPDF2.PdfWriter()\n",
    "        for index_addition, item_to_insert in enumerate(lst_to_insert):\n",
    "            # might be a more efficient way but here we just write and restart the read\n",
    "            if index_addition > 0:\n",
    "                input_reader = PyPDF2.PdfReader(output_path)\n",
    "                combined = PyPDF2.PdfWriter()\n",
    "\n",
    "            page_index, path_to_insert = item_to_insert\n",
    "            insert_page = PyPDF2.PdfReader(path_to_insert,strict=False)\n",
    "\n",
    "            # add pages before hand, -1 is to remove the old \n",
    "            if remove_place_holder:\n",
    "                page_index_start =  page_index -1 \n",
    "            else:\n",
    "                page_index_start =  page_index\n",
    "            for index in total_input_pages_lst_index[:page_index_start]:\n",
    "                combined.add_page(input_reader.pages[index])\n",
    "            print(index_addition)\n",
    "            # insert page, removeing the old one\n",
    "            for index in range(len(insert_page.pages)):\n",
    "                print(index,len(insert_page.pages))\n",
    "                combined.add_page(insert_page.pages[index])\n",
    "\n",
    "            # add pages after\n",
    "            for index in total_input_pages_lst_index[page_index:]:\n",
    "                combined.add_page(input_reader.pages[index])\n",
    "\n",
    "            with open(output_path, \"wb\") as fout:\n",
    "                combined.write(fout)\n",
    "    except Exception as e:\n",
    "        return e\n",
    "    \n",
    "    return output_path"
   ]
  },
  {
   "cell_type": "code",
   "execution_count": 25,
   "id": "0e62b239-b0ea-45c5-9839-feba77cc2ca5",
   "metadata": {},
   "outputs": [
    {
     "name": "stdout",
     "output_type": "stream",
     "text": [
      "[[4, 'Input\\\\Test_simple\\\\drawing.pdf']]\n",
      "0\n",
      "0 1\n"
     ]
    },
    {
     "data": {
      "text/plain": [
       "'Output/report_file_we_want.pdf'"
      ]
     },
     "execution_count": 25,
     "metadata": {},
     "output_type": "execute_result"
    }
   ],
   "source": [
    "symbol = \"**__**\"\n",
    "input_name = \"report_file_we_want\"\n",
    "input_path = f\"Input/Test_simple/{input_name}.pdf\"\n",
    "output_path = f\"Output/{input_name}.pdf\"\n",
    "combine(input_path,output_path,symbol)"
   ]
  },
  {
   "cell_type": "code",
   "execution_count": 26,
   "id": "8ef58d9a-7170-420c-bba8-f4723e48d3f9",
   "metadata": {},
   "outputs": [
    {
     "name": "stdout",
     "output_type": "stream",
     "text": [
      "[[17, 'Input/Test_report/drawing.pdf'], [22, 'Input/Test_report/drawing2.pdf']]\n",
      "0\n",
      "0 1\n",
      "1\n",
      "0 1\n"
     ]
    },
    {
     "data": {
      "text/plain": [
       "'Output/Project analyse - test.pdf'"
      ]
     },
     "execution_count": 26,
     "metadata": {},
     "output_type": "execute_result"
    }
   ],
   "source": [
    "symbol = \"**__**\"\n",
    "input_name = \"Project analyse - test\"\n",
    "input_path = f\"Input/Test_report/{input_name}.pdf\"\n",
    "output_path = f\"Output/{input_name}.pdf\"\n",
    "combine(input_path,output_path,symbol)"
   ]
  },
  {
   "cell_type": "markdown",
   "id": "52527e4c-b815-4298-941d-4903deccc9fe",
   "metadata": {},
   "source": [
    "# combine doesnt always work:"
   ]
  },
  {
   "cell_type": "code",
   "execution_count": 27,
   "id": "9267fa79-e869-42cd-acbb-b119eefd3cd9",
   "metadata": {},
   "outputs": [],
   "source": [
    "import pikepdf"
   ]
  },
  {
   "cell_type": "code",
   "execution_count": 28,
   "id": "dc95f03c-9899-47bb-9aea-b955665372dc",
   "metadata": {},
   "outputs": [],
   "source": [
    "def combine_2(input_path, output_path, symbol): \n",
    "    # try:\n",
    "    input_reader = PyPDF2.PdfReader(input_path)\n",
    "    total_input_pages = len(input_reader.pages)\n",
    "    total_input_pages_lst_index = list(range(0, total_input_pages))\n",
    "    pages = [page.extract_text() for page in input_reader.pages]    \n",
    "\n",
    "\n",
    "    lst_to_insert = []\n",
    "    for page_n, page in enumerate(pages):\n",
    "        if page.find(symbol)!= -1:\n",
    "            start_path = page.find(symbol)\n",
    "            end_path = page.find(symbol,start_path+1)\n",
    "            path = page[start_path+len(symbol):end_path]\n",
    "            path = path.replace(\" \",\"\") # remove any spaces, or new line\n",
    "            path = path.replace(\"\\n\",\"\") # remove any spaces, or new line\n",
    "            lst_to_insert.append([page_n+1, path])\n",
    "\n",
    "    \n",
    "    remove_place_holder = True # assume the 'code' page is a placeholder - doesnt have to be but will look ugly\n",
    "\n",
    "    input_reader = pikepdf.Pdf.open(input_path)\n",
    "    combined = pikepdf.Pdf.new()\n",
    "    for index_addition, item_to_insert in enumerate(lst_to_insert[:1]):\n",
    "        # might be a more efficient way but here we just write and restart the read\n",
    "        # if index_addition > 0:\n",
    "        #     input_reader = pikepdf.Pdf.open(output_path)\n",
    "        #     combined = pikepdf.Pdf.new()\n",
    "\n",
    "        page_index, path_to_insert = item_to_insert\n",
    "        insert_page =pikepdf.Pdf.open(path_to_insert)\n",
    "\n",
    "        # add pages before hand, -1 is to remove the old \n",
    "        if remove_place_holder:\n",
    "            page_index_start =  page_index -1 \n",
    "        else:\n",
    "            page_index_start =  page_index\n",
    "\n",
    "        for index in total_input_pages_lst_index[:page_index_start]:\n",
    "            combined.pages.append(input_reader.pages[index])\n",
    "        # insert page, removeing the old one\n",
    "        for index in range(len(insert_page.pages)):\n",
    "            combined.pages.append(insert_page.pages[index])\n",
    "\n",
    "        # add pages after\n",
    "        for index in total_input_pages_lst_index[page_index:]:\n",
    "            combined.pages.append(input_reader.pages[index])\n",
    "\n",
    "        combined.save(output_path)\n",
    "        \n",
    "    print(len(lst_to_insert),end=\"\\r\")\n",
    "    return len(lst_to_insert)"
   ]
  },
  {
   "cell_type": "code",
   "execution_count": 31,
   "id": "e41044c4-bef0-4107-9180-5c990ec88651",
   "metadata": {},
   "outputs": [
    {
     "name": "stdout",
     "output_type": "stream",
     "text": [
      "0\r"
     ]
    }
   ],
   "source": [
    "symbol = \"**__**\"\n",
    "input_name = \"report_file_we_want\"\n",
    "input_path = f\"Input/Test_simple/{input_name}.pdf\"\n",
    "output_path = f\"Output/{input_name}.pdf\"\n",
    "\n",
    "n_page_to_be_inserted = combine_2(input_path,output_path,symbol)\n",
    "while n_page_to_be_inserted > 0:\n",
    "    n_page_to_be_inserted = combine_2(output_path,output_path,symbol)"
   ]
  },
  {
   "cell_type": "code",
   "execution_count": null,
   "id": "8ec01adc-9c28-4509-8671-5f18014dbc12",
   "metadata": {},
   "outputs": [],
   "source": []
  }
 ],
 "metadata": {
  "kernelspec": {
   "display_name": "Python 3 (ipykernel)",
   "language": "python",
   "name": "python3"
  },
  "language_info": {
   "codemirror_mode": {
    "name": "ipython",
    "version": 3
   },
   "file_extension": ".py",
   "mimetype": "text/x-python",
   "name": "python",
   "nbconvert_exporter": "python",
   "pygments_lexer": "ipython3",
   "version": "3.10.5"
  }
 },
 "nbformat": 4,
 "nbformat_minor": 5
}
