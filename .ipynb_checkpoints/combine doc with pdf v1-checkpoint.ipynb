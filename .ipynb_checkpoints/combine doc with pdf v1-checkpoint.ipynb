{
 "cells": [
  {
   "cell_type": "code",
   "execution_count": 3,
   "id": "7bc90c2b-f4ad-407b-b3cf-0b05c843ee66",
   "metadata": {},
   "outputs": [],
   "source": [
    "import PyPDF2\n",
    "import pikepdf"
   ]
  },
  {
   "cell_type": "code",
   "execution_count": 4,
   "id": "8f9c181e-e85c-4be0-bb13-1d48cf520da9",
   "metadata": {},
   "outputs": [],
   "source": [
    "def combine(input_path, output_path, symbol): \n",
    "    # try:\n",
    "    input_reader = PyPDF2.PdfReader(input_path)\n",
    "    total_input_pages = len(input_reader.pages)\n",
    "    total_input_pages_lst_index = list(range(0, total_input_pages))\n",
    "    pages = [page.extract_text() for page in input_reader.pages]    \n",
    "\n",
    "\n",
    "    lst_to_insert = []\n",
    "    for page_n, page in enumerate(pages):\n",
    "        if page.find(symbol)!= -1:\n",
    "            start_path = page.find(symbol)\n",
    "            end_path = page.find(symbol,start_path+1)\n",
    "            path = page[start_path+len(symbol):end_path]\n",
    "            path = path.replace(\" \",\"\") # remove any spaces, or new line\n",
    "            path = path.replace(\"\\n\",\"\") # remove any spaces, or new line\n",
    "            lst_to_insert.append([page_n+1, path])\n",
    "\n",
    "    \n",
    "    remove_place_holder = True # assume the 'code' page is a placeholder - doesnt have to be but will look ugly\n",
    "\n",
    "    input_reader = pikepdf.Pdf.open(input_path)\n",
    "    combined = pikepdf.Pdf.new()\n",
    "    for index_addition, item_to_insert in enumerate(lst_to_insert[:1]):\n",
    "        page_index, path_to_insert = item_to_insert\n",
    "        insert_page =pikepdf.Pdf.open(path_to_insert)\n",
    "\n",
    "        # add pages before hand, -1 is to remove the old \n",
    "        if remove_place_holder:\n",
    "            page_index_start =  page_index -1 \n",
    "        else:\n",
    "            page_index_start =  page_index\n",
    "\n",
    "        for index in total_input_pages_lst_index[:page_index_start]:\n",
    "            combined.pages.append(input_reader.pages[index])\n",
    "        # insert page, removeing the old one\n",
    "        for index in range(len(insert_page.pages)):\n",
    "            combined.pages.append(insert_page.pages[index])\n",
    "\n",
    "        # add pages after\n",
    "        for index in total_input_pages_lst_index[page_index:]:\n",
    "            combined.pages.append(input_reader.pages[index])\n",
    "\n",
    "        combined.save(output_path)\n",
    "        \n",
    "    print(f'Number of annexes to add: {len(lst_to_insert)}',end=\"\\r\")\n",
    "    return len(lst_to_insert)"
   ]
  },
  {
   "cell_type": "code",
   "execution_count": 5,
   "id": "34c60dd8-3558-4419-9f91-966781f3ee12",
   "metadata": {},
   "outputs": [],
   "source": [
    "class PDF(object):\n",
    "    def __init__(self, pdf, size=(200,200)):\n",
    "        self.pdf = pdf\n",
    "        self.size = size\n",
    "\n",
    "    def _repr_html_(self):\n",
    "        return '<iframe src={0} width={1[0]} height={1[1]}></iframe>'.format(self.pdf, self.size)\n",
    "\n",
    "    def _repr_latex_(self):\n",
    "        return r'\\includegraphics[width=1.0\\textwidth]{{{0}}}'.format(self.pdf)"
   ]
  },
  {
   "cell_type": "code",
   "execution_count": 6,
   "id": "702b1bb6-1b10-4ed8-ba31-0ce17d4344ec",
   "metadata": {},
   "outputs": [],
   "source": [
    "def run_combining(input_path,output_path,symbol):\n",
    "    \"\"\"repeat untill all symbols removed - recursive algorithm: not the fastest but works well\"\"\"\n",
    "    n_page_to_be_inserted = combine(input_path,output_path,symbol)\n",
    "    total_n_page_to_be_inserted = n_page_to_be_inserted\n",
    "    print(f'adding annexes:  \\n')\n",
    "    while n_page_to_be_inserted > 0:\n",
    "        n_page_to_be_inserted = combine(output_path,output_path,symbol)\n",
    "    print(f\"{total_n_page_to_be_inserted} added! Result in {output_path}\")"
   ]
  },
  {
   "cell_type": "markdown",
   "id": "114f69db-0a1f-49d2-8021-18b2272bdb8c",
   "metadata": {},
   "source": [
    "### Tests"
   ]
  },
  {
   "cell_type": "code",
   "execution_count": 7,
   "id": "03e87178-ed89-4c45-9e29-eb1b4d95c6b7",
   "metadata": {},
   "outputs": [
    {
     "name": "stdout",
     "output_type": "stream",
     "text": [
      "adding annexes:   to add: 2\n",
      "\n",
      "2 added! Result in Output/Project analyse - test.pdf\n"
     ]
    }
   ],
   "source": [
    "symbol = \"**__**\"\n",
    "input_name = \"Project analyse - test\"\n",
    "input_path = f\"Input/Test_report/{input_name}.pdf\"\n",
    "output_path = f\"Output/{input_name}.pdf\"\n",
    "run_combining(input_path,output_path,symbol)"
   ]
  },
  {
   "cell_type": "code",
   "execution_count": 8,
   "id": "86efaf6c-c0d2-401e-8028-f12277737496",
   "metadata": {},
   "outputs": [
    {
     "name": "stdout",
     "output_type": "stream",
     "text": [
      "adding annexes:   to add: 1\n",
      "\n",
      "1 added! Result in Output/report_file_we_want.pdf\n"
     ]
    }
   ],
   "source": [
    "symbol = \"**__**\"\n",
    "input_name = \"report_file_we_want\"\n",
    "input_path = f\"Input/Test_simple/{input_name}.pdf\"\n",
    "output_path = f\"Output/{input_name}.pdf\"\n",
    "run_combining(input_path,output_path,symbol)"
   ]
  },
  {
   "cell_type": "code",
   "execution_count": 9,
   "id": "db7fd8cf-7a28-4fde-97fc-f3140c4df4d3",
   "metadata": {},
   "outputs": [
    {
     "name": "stdin",
     "output_type": "stream",
     "text": [
      "Which symbol was used to signal a path? NO SPACES IN THE PATH! \n",
      " Tested to work with **__** \n",
      " **__**\n",
      "File name in input folder? NO SPACES! \n",
      " format: Input/Test_simple/report_file_we_want.pdf\n",
      " Input/Test_simple/report_file_we_want.pdf\n",
      "File name in input folder? NO SPACES! \n",
      " format: Output/report_file_we_want.pdf\n",
      " Output/report_file_we_want.pdf\n"
     ]
    },
    {
     "name": "stdout",
     "output_type": "stream",
     "text": [
      "adding annexes:   to add: 1\n",
      "\n",
      "1 added! Result in Output/report_file_we_want.pdf\n"
     ]
    }
   ],
   "source": [
    "symbol = input(\"Which symbol was used to signal a path? NO SPACES IN THE PATH! \\n Tested to work with **__** \\n\")\n",
    "input_path = input(\"File name in input folder? NO SPACES! \\n format: Input/Test_simple/report_file_we_want.pdf\\n\")\n",
    "output_path = input(\"File name in input folder? NO SPACES! \\n format: Output/report_file_we_want.pdf\\n\")\n",
    "run_combining(input_path,output_path,symbol)"
   ]
  },
  {
   "cell_type": "code",
   "execution_count": null,
   "id": "b9758b25-0f58-4166-ac97-423850b5804f",
   "metadata": {},
   "outputs": [],
   "source": []
  }
 ],
 "metadata": {
  "kernelspec": {
   "display_name": "Python 3 (ipykernel)",
   "language": "python",
   "name": "python3"
  },
  "language_info": {
   "codemirror_mode": {
    "name": "ipython",
    "version": 3
   },
   "file_extension": ".py",
   "mimetype": "text/x-python",
   "name": "python",
   "nbconvert_exporter": "python",
   "pygments_lexer": "ipython3",
   "version": "3.10.5"
  }
 },
 "nbformat": 4,
 "nbformat_minor": 5
}
